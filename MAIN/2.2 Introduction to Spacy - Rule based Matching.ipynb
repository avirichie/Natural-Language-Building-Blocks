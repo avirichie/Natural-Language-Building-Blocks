{
 "cells": [
  {
   "cell_type": "code",
   "execution_count": 22,
   "metadata": {},
   "outputs": [],
   "source": [
    "import pandas as pd\n",
    "import time\n",
    "import spacy\n",
    "from spacy.matcher import Matcher"
   ]
  },
  {
   "cell_type": "code",
   "execution_count": 2,
   "metadata": {},
   "outputs": [
    {
     "data": {
      "text/html": [
       "<div>\n",
       "<style scoped>\n",
       "    .dataframe tbody tr th:only-of-type {\n",
       "        vertical-align: middle;\n",
       "    }\n",
       "\n",
       "    .dataframe tbody tr th {\n",
       "        vertical-align: top;\n",
       "    }\n",
       "\n",
       "    .dataframe thead th {\n",
       "        text-align: right;\n",
       "    }\n",
       "</style>\n",
       "<table border=\"1\" class=\"dataframe\">\n",
       "  <thead>\n",
       "    <tr style=\"text-align: right;\">\n",
       "      <th></th>\n",
       "      <th>Id</th>\n",
       "      <th>Title</th>\n",
       "    </tr>\n",
       "  </thead>\n",
       "  <tbody>\n",
       "    <tr>\n",
       "      <th>0</th>\n",
       "      <td>80</td>\n",
       "      <td>SQLStatement.execute() - multiple queries in o...</td>\n",
       "    </tr>\n",
       "    <tr>\n",
       "      <th>1</th>\n",
       "      <td>90</td>\n",
       "      <td>Good branching and merging tutorials for Torto...</td>\n",
       "    </tr>\n",
       "    <tr>\n",
       "      <th>2</th>\n",
       "      <td>120</td>\n",
       "      <td>ASP.NET Site Maps</td>\n",
       "    </tr>\n",
       "    <tr>\n",
       "      <th>3</th>\n",
       "      <td>180</td>\n",
       "      <td>Function for creating color wheels</td>\n",
       "    </tr>\n",
       "    <tr>\n",
       "      <th>4</th>\n",
       "      <td>260</td>\n",
       "      <td>Adding scripting functionality to .NET applica...</td>\n",
       "    </tr>\n",
       "  </tbody>\n",
       "</table>\n",
       "</div>"
      ],
      "text/plain": [
       "    Id                                              Title\n",
       "0   80  SQLStatement.execute() - multiple queries in o...\n",
       "1   90  Good branching and merging tutorials for Torto...\n",
       "2  120                                  ASP.NET Site Maps\n",
       "3  180                 Function for creating color wheels\n",
       "4  260  Adding scripting functionality to .NET applica..."
      ]
     },
     "execution_count": 2,
     "metadata": {},
     "output_type": "execute_result"
    }
   ],
   "source": [
    "# We are going to make use of the stack over flow Question data set\n",
    "data = pd.read_csv(r'D:\\Datasets\\Stack Overflow\\Questions.csv',encoding='iSO-8859-1',usecols=['Title','Id'])\n",
    "data.head()"
   ]
  },
  {
   "cell_type": "code",
   "execution_count": 5,
   "metadata": {},
   "outputs": [],
   "source": [
    "nlp = spacy.load('en_core_web_sm')"
   ]
  },
  {
   "cell_type": "markdown",
   "metadata": {},
   "source": [
    "#### Unlike our last NLP based models where we detacted the Go Language, We take a step further in this one to enhance the performance of the model to detect all languages. "
   ]
  },
  {
   "cell_type": "code",
   "execution_count": 14,
   "metadata": {},
   "outputs": [],
   "source": [
    "#Creating a function that checks whether the following word is contained in the document or not\n",
    "def has_lang(doc):\n",
    "    for t in doc:\n",
    "        if t.lower_ in ['go','golang','python','ruby','objective-c']:\n",
    "            return True\n",
    "    return False         "
   ]
  },
  {
   "cell_type": "code",
   "execution_count": 25,
   "metadata": {},
   "outputs": [
    {
     "data": {
      "text/plain": [
       "False"
      ]
     },
     "execution_count": 25,
     "metadata": {},
     "output_type": "execute_result"
    }
   ],
   "source": [
    "doc = nlp('I develop apps in ios and use objective-c to do that.')\n",
    "has_lang(doc)"
   ]
  },
  {
   "cell_type": "code",
   "execution_count": 9,
   "metadata": {},
   "outputs": [
    {
     "data": {
      "text/plain": [
       "[I, develop, apps, in, ios, and, use, objective, -, c, to, do, that, .]"
      ]
     },
     "execution_count": 9,
     "metadata": {},
     "output_type": "execute_result"
    }
   ],
   "source": [
    "[t for t in doc]"
   ]
  },
  {
   "cell_type": "markdown",
   "metadata": {},
   "source": [
    "#### As you see we the function dont return us True even though our sentence contain objective-c. This is because spacy model identifies objective,-,c as different tokens.To counter this problem we use matcher library of spacy. We create patterns with specific instructions to find the languages which remain unrecognized because of some symantic constraints"
   ]
  },
  {
   "cell_type": "markdown",
   "metadata": {},
   "source": [
    "#### https://spacy.io/usage/rule-based-matching"
   ]
  },
  {
   "cell_type": "code",
   "execution_count": 13,
   "metadata": {},
   "outputs": [],
   "source": [
    "pattern_obj_c1 = [{'LOWER':'objective'},\n",
    "                  {'IS_PUNCT':True,'OP':'?'},\n",
    "                  {'LOWER':'c'}]\n",
    "\n",
    "golang_pattern1 = [{'LOWER': 'golang'}] \n",
    "golang_pattern2 = [{'LOWER': 'go', \n",
    "                    'POS': {'NOT_IN': ['VERB']}}]\n",
    "\n",
    "python_pattern = [{'LOWER': 'python'}]\n",
    "ruby_pattern   = [{'LOWER': 'ruby'}]\n",
    "js_pattern     = [{'LOWER': {'IN': ['js', 'javascript']}}]"
   ]
  },
  {
   "cell_type": "markdown",
   "metadata": {},
   "source": [
    "### When writing patterns, keep in mind that each dictionary represents one token. If spaCy’s tokenization doesn’t match the tokens defined in a pattern, the pattern is not going to produce any results. When developing complex patterns, make sure to check examples against spaCy’s tokenization:"
   ]
  },
  {
   "cell_type": "code",
   "execution_count": 34,
   "metadata": {},
   "outputs": [],
   "source": [
    "# Initialize a matcher and add the above patterns to the matcher which will be fed to the has\n",
    "matcher = Matcher(nlp.vocab,validate= True)\n",
    "matcher.add('OBJ_C_LANG',None,pattern_obj_c1)\n",
    "matcher(doc)\n",
    "\n",
    "matcher.add(\"PYTHON_LANG\", None, python_pattern)\n",
    "matcher.add(\"GO_LANG\", None, golang_pattern1, golang_pattern2)\n",
    "matcher.add(\"JS_LANG\", None, js_pattern)\n",
    "matcher.add(\"RUBY_LANG\", None, ruby_pattern)"
   ]
  },
  {
   "cell_type": "code",
   "execution_count": 28,
   "metadata": {},
   "outputs": [
    {
     "name": "stdout",
     "output_type": "stream",
     "text": [
      "objective-c\n",
      "golang\n",
      "python\n"
     ]
    }
   ],
   "source": [
    "doc = nlp(\"I develop apps in ios and use objective-c,golang/go and python to do that.\")\n",
    "for match_id, start, end in matcher(doc):\n",
    "    print(doc[start: end])"
   ]
  },
  {
   "cell_type": "markdown",
   "metadata": {},
   "source": [
    "## Tuning the model "
   ]
  },
  {
   "cell_type": "code",
   "execution_count": 32,
   "metadata": {},
   "outputs": [],
   "source": [
    "#Checking if the model is able to capture all of the texts containing python or not\n",
    "titles = (_ for _ in data['Title'] if 'python' in _.lower())"
   ]
  },
  {
   "cell_type": "code",
   "execution_count": 37,
   "metadata": {},
   "outputs": [
    {
     "name": "stdout",
     "output_type": "stream",
     "text": [
      "how to integrate ZSH and (i)python?\n",
      "wxpython compilation\n",
      "wxPython: how to search for text in a TextCtrl?\n",
      "wxPython SplitterWindow does not expand within a Panel\n",
      "Is it possible to go into ipython from code?\n",
      "Need assistance with wxPython (newbie)\n",
      "Python- about file-handle limits on OS\n",
      "How to install a module as an egg under IronPython?\n",
      "wxPython: Changing the color scheme of a wx.stc.StyledTextCtrl\n",
      "How can I use a VB6 COM 'reference' in IronPython?\n",
      "How to use Staticgenerator with Django + Apache + mod_python\n",
      "wxPython: Items in BoxSizer don't expand horizontally, only vertically\n",
      "mod_python problem?\n",
      "Running doctests through iPython and pseudo-consoles\n",
      "How can I impersonate the current user with IronPython?\n",
      "Set Max Width for Frame with ScrolledWindow in wxPython\n",
      "Edit python31 file and it opens notepad and starts python26\n",
      "Potential Memory Leak in my wxPython App\n",
      "Pythonic way to \"flatten\" object hierarchy to nested dicts?\n"
     ]
    }
   ],
   "source": [
    "for i in range(200):\n",
    "    doc = nlp(next(titles))\n",
    "    if len(matcher(doc)) ==0:\n",
    "        print(doc)"
   ]
  },
  {
   "cell_type": "code",
   "execution_count": null,
   "metadata": {},
   "outputs": [],
   "source": [
    "python_pattern2 = [{'TEXT': {'REGEX':''}}]"
   ]
  }
 ],
 "metadata": {
  "kernelspec": {
   "display_name": "TensorFlow-GPU-2.2",
   "language": "python",
   "name": "tf-gpu"
  },
  "language_info": {
   "codemirror_mode": {
    "name": "ipython",
    "version": 3
   },
   "file_extension": ".py",
   "mimetype": "text/x-python",
   "name": "python",
   "nbconvert_exporter": "python",
   "pygments_lexer": "ipython3",
   "version": "3.7.7"
  }
 },
 "nbformat": 4,
 "nbformat_minor": 4
}
