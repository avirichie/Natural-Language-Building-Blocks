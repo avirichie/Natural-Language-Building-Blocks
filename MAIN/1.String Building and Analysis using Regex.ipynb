{
 "cells": [
  {
   "cell_type": "code",
   "execution_count": 1,
   "metadata": {},
   "outputs": [],
   "source": [
    "with open('cv000_29590.txt') as f:\n",
    "    text = f.read()"
   ]
  },
  {
   "cell_type": "code",
   "execution_count": 2,
   "metadata": {},
   "outputs": [
    {
     "data": {
      "text/plain": [
       "str"
      ]
     },
     "execution_count": 2,
     "metadata": {},
     "output_type": "execute_result"
    }
   ],
   "source": [
    "type(text)"
   ]
  },
  {
   "cell_type": "code",
   "execution_count": 3,
   "metadata": {},
   "outputs": [
    {
     "data": {
      "text/plain": [
       "'films adapted from comic books have had plenty of success , whether they\\'re about superheroes ( batman , superman , spawn ) , or geared toward kids ( casper ) or the arthouse crowd ( ghost world ) , but there\\'s never really been a comic book like from hell before . \\nfor starters , it was created by alan moore ( and eddie campbell ) , who brought the medium to a whole new level in the mid \\'80s with a 12-part series called the watchmen . \\nto say moore and campbell thoroughly researched the subject of jack the ripper would be like saying michael jackson is starting to look a little odd . \\nthe book ( or \" graphic novel , \" if you will ) is over 500 pages long and includes nearly 30 more that consist of nothing but footnotes . \\nin other words , don\\'t dismiss this film because of its source . \\nif you can get past the whole comic book thing , you might find another stumbling block in from hell\\'s directors , albert and allen hughes . \\ngetting the hughes brothers to direct this seems almost as ludicrous as casting carrot top in , well , anything , but riddle me this : who better to direct a film that\\'s set in the ghetto and features really violent street crime than the mad geniuses behind menace ii society ? \\nthe ghetto in question is , of course , whitechapel in 1888 london\\'s east end . \\nit\\'s a filthy , sooty place where the whores ( called \" unfortunates \" ) are starting to get a little nervous about this mysterious psychopath who has been carving through their profession with surgical precision . \\nwhen the first stiff turns up , copper peter godley ( robbie coltrane , the world is not enough ) calls in inspector frederick abberline ( johnny depp , blow ) to crack the case . \\nabberline , a widower , has prophetic dreams he unsuccessfully tries to quell with copious amounts of absinthe and opium . \\nupon arriving in whitechapel , he befriends an unfortunate named mary kelly ( heather graham , say it isn\\'t so ) and proceeds to investigate the horribly gruesome crimes that even the police surgeon can\\'t stomach . \\ni don\\'t think anyone needs to be briefed on jack the ripper , so i won\\'t go into the particulars here , other than to say moore and campbell have a unique and interesting theory about both the identity of the killer and the reasons he chooses to slay . \\nin the comic , they don\\'t bother cloaking the identity of the ripper , but screenwriters terry hayes ( vertical limit ) and rafael yglesias ( les mis ? rables ) do a good job of keeping him hidden from viewers until the very end . \\nit\\'s funny to watch the locals blindly point the finger of blame at jews and indians because , after all , an englishman could never be capable of committing such ghastly acts . \\nand from hell\\'s ending had me whistling the stonecutters song from the simpsons for days ( \" who holds back the electric car/who made steve guttenberg a star ? \" ) . \\ndon\\'t worry - it\\'ll all make sense when you see it . \\nnow onto from hell\\'s appearance : it\\'s certainly dark and bleak enough , and it\\'s surprising to see how much more it looks like a tim burton film than planet of the apes did ( at times , it seems like sleepy hollow 2 ) . \\nthe print i saw wasn\\'t completely finished ( both color and music had not been finalized , so no comments about marilyn manson ) , but cinematographer peter deming ( don\\'t say a word ) ably captures the dreariness of victorian-era london and helped make the flashy killing scenes remind me of the crazy flashbacks in twin peaks , even though the violence in the film pales in comparison to that in the black-and-white comic . \\noscar winner martin childs\\' ( shakespeare in love ) production design turns the original prague surroundings into one creepy place . \\neven the acting in from hell is solid , with the dreamy depp turning in a typically strong performance and deftly handling a british accent . \\nians holm ( joe gould\\'s secret ) and richardson ( 102 dalmatians ) log in great supporting roles , but the big surprise here is graham . \\ni cringed the first time she opened her mouth , imagining her attempt at an irish accent , but it actually wasn\\'t half bad . \\nthe film , however , is all good . \\n2 : 00 - r for strong violence/gore , sexuality , language and drug content \\n'"
      ]
     },
     "execution_count": 3,
     "metadata": {},
     "output_type": "execute_result"
    }
   ],
   "source": [
    "text"
   ]
  },
  {
   "cell_type": "code",
   "execution_count": 4,
   "metadata": {},
   "outputs": [],
   "source": [
    "lines = text.split('\\n')"
   ]
  },
  {
   "cell_type": "code",
   "execution_count": 5,
   "metadata": {},
   "outputs": [],
   "source": [
    "sentence = lines[1]"
   ]
  },
  {
   "cell_type": "code",
   "execution_count": 25,
   "metadata": {},
   "outputs": [
    {
     "data": {
      "text/plain": [
       "\"for starters , it was created by alan moore ( and eddie campbell ) , who brought the medium to a whole new level in the mid '80s with a 12-part series called the watchmen . \""
      ]
     },
     "execution_count": 25,
     "metadata": {},
     "output_type": "execute_result"
    }
   ],
   "source": [
    "sentence"
   ]
  },
  {
   "cell_type": "code",
   "execution_count": 7,
   "metadata": {},
   "outputs": [
    {
     "data": {
      "text/plain": [
       "['for',\n",
       " 'starters',\n",
       " ',',\n",
       " 'it',\n",
       " 'was',\n",
       " 'created',\n",
       " 'by',\n",
       " 'alan',\n",
       " 'moore',\n",
       " '(',\n",
       " 'and',\n",
       " 'eddie',\n",
       " 'campbell',\n",
       " ')',\n",
       " ',',\n",
       " 'who',\n",
       " 'brought',\n",
       " 'the',\n",
       " 'medium',\n",
       " 'to',\n",
       " 'a',\n",
       " 'whole',\n",
       " 'new',\n",
       " 'level',\n",
       " 'in',\n",
       " 'the',\n",
       " 'mid',\n",
       " \"'80s\",\n",
       " 'with',\n",
       " 'a',\n",
       " '12-part',\n",
       " 'series',\n",
       " 'called',\n",
       " 'the',\n",
       " 'watchmen',\n",
       " '.',\n",
       " '']"
      ]
     },
     "execution_count": 7,
     "metadata": {},
     "output_type": "execute_result"
    }
   ],
   "source": [
    "sentence.split(\" \")"
   ]
  },
  {
   "cell_type": "code",
   "execution_count": 8,
   "metadata": {},
   "outputs": [
    {
     "data": {
      "text/plain": [
       "True"
      ]
     },
     "execution_count": 8,
     "metadata": {},
     "output_type": "execute_result"
    }
   ],
   "source": [
    "\"Batman\"[0].isupper()"
   ]
  },
  {
   "cell_type": "code",
   "execution_count": 9,
   "metadata": {},
   "outputs": [
    {
     "data": {
      "text/plain": [
       "False"
      ]
     },
     "execution_count": 9,
     "metadata": {},
     "output_type": "execute_result"
    }
   ],
   "source": [
    "\"Batm@n\".isalnum()"
   ]
  },
  {
   "cell_type": "code",
   "execution_count": 10,
   "metadata": {},
   "outputs": [
    {
     "data": {
      "text/plain": [
       "True"
      ]
     },
     "execution_count": 10,
     "metadata": {},
     "output_type": "execute_result"
    }
   ],
   "source": [
    "\"12345\".isnumeric()"
   ]
  },
  {
   "cell_type": "code",
   "execution_count": 11,
   "metadata": {},
   "outputs": [
    {
     "data": {
      "text/plain": [
       "'Superman'"
      ]
     },
     "execution_count": 11,
     "metadata": {},
     "output_type": "execute_result"
    }
   ],
   "source": [
    "\"superman\".capitalize()"
   ]
  },
  {
   "cell_type": "code",
   "execution_count": 12,
   "metadata": {},
   "outputs": [
    {
     "data": {
      "text/plain": [
       "'First-Second-Third'"
      ]
     },
     "execution_count": 12,
     "metadata": {},
     "output_type": "execute_result"
    }
   ],
   "source": [
    "\"-\".join([\"First\", \"Second\", \"Third\"])"
   ]
  },
  {
   "cell_type": "code",
   "execution_count": 13,
   "metadata": {},
   "outputs": [
    {
     "data": {
      "text/plain": [
       "828"
      ]
     },
     "execution_count": 13,
     "metadata": {},
     "output_type": "execute_result"
    }
   ],
   "source": [
    "words = []\n",
    "for s in lines:\n",
    "    words.extend(s.split(\" \"))\n",
    "len(words)"
   ]
  },
  {
   "cell_type": "code",
   "execution_count": 14,
   "metadata": {},
   "outputs": [],
   "source": [
    "#Counting the occcurence of each word in the text\n",
    "count = {}\n",
    "for word in words:\n",
    "    if word in count:\n",
    "        count[word]+=1\n",
    "    else:\n",
    "        count[word] = 1"
   ]
  },
  {
   "cell_type": "code",
   "execution_count": 15,
   "metadata": {},
   "outputs": [
    {
     "data": {
      "text/plain": [
       "{'films': 1,\n",
       " 'adapted': 1,\n",
       " 'from': 8,\n",
       " 'comic': 5,\n",
       " 'books': 1,\n",
       " 'have': 2,\n",
       " 'had': 3,\n",
       " 'plenty': 1,\n",
       " 'of': 14,\n",
       " 'success': 1,\n",
       " ',': 43,\n",
       " 'whether': 1,\n",
       " \"they're\": 1,\n",
       " 'about': 4,\n",
       " 'superheroes': 1,\n",
       " '(': 18,\n",
       " 'batman': 1,\n",
       " 'superman': 1,\n",
       " 'spawn': 1,\n",
       " ')': 18,\n",
       " 'or': 3,\n",
       " 'geared': 1,\n",
       " 'toward': 1,\n",
       " 'kids': 1,\n",
       " 'casper': 1,\n",
       " 'the': 46,\n",
       " 'arthouse': 1,\n",
       " 'crowd': 1,\n",
       " 'ghost': 1,\n",
       " 'world': 2,\n",
       " 'but': 7,\n",
       " \"there's\": 1,\n",
       " 'never': 2,\n",
       " 'really': 2,\n",
       " 'been': 3,\n",
       " 'a': 15,\n",
       " 'book': 3,\n",
       " 'like': 4,\n",
       " 'hell': 2,\n",
       " 'before': 1,\n",
       " '.': 23,\n",
       " '': 26,\n",
       " 'for': 3,\n",
       " 'starters': 1,\n",
       " 'it': 6,\n",
       " 'was': 1,\n",
       " 'created': 1,\n",
       " 'by': 1,\n",
       " 'alan': 1,\n",
       " 'moore': 3,\n",
       " 'and': 20,\n",
       " 'eddie': 1,\n",
       " 'campbell': 3,\n",
       " 'who': 4,\n",
       " 'brought': 1,\n",
       " 'medium': 1,\n",
       " 'to': 15,\n",
       " 'whole': 2,\n",
       " 'new': 1,\n",
       " 'level': 1,\n",
       " 'in': 18,\n",
       " 'mid': 1,\n",
       " \"'80s\": 1,\n",
       " 'with': 4,\n",
       " '12-part': 1,\n",
       " 'series': 1,\n",
       " 'called': 2,\n",
       " 'watchmen': 1,\n",
       " 'say': 4,\n",
       " 'thoroughly': 1,\n",
       " 'researched': 1,\n",
       " 'subject': 1,\n",
       " 'jack': 2,\n",
       " 'ripper': 3,\n",
       " 'would': 1,\n",
       " 'be': 3,\n",
       " 'saying': 1,\n",
       " 'michael': 1,\n",
       " 'jackson': 1,\n",
       " 'is': 7,\n",
       " 'starting': 2,\n",
       " 'look': 1,\n",
       " 'little': 2,\n",
       " 'odd': 1,\n",
       " '\"': 6,\n",
       " 'graphic': 1,\n",
       " 'novel': 1,\n",
       " 'if': 2,\n",
       " 'you': 4,\n",
       " 'will': 1,\n",
       " 'over': 1,\n",
       " '500': 1,\n",
       " 'pages': 1,\n",
       " 'long': 1,\n",
       " 'includes': 1,\n",
       " 'nearly': 1,\n",
       " '30': 1,\n",
       " 'more': 2,\n",
       " 'that': 3,\n",
       " 'consist': 1,\n",
       " 'nothing': 1,\n",
       " 'footnotes': 1,\n",
       " 'other': 2,\n",
       " 'words': 1,\n",
       " \"don't\": 5,\n",
       " 'dismiss': 1,\n",
       " 'this': 4,\n",
       " 'film': 5,\n",
       " 'because': 2,\n",
       " 'its': 1,\n",
       " 'source': 1,\n",
       " 'can': 1,\n",
       " 'get': 2,\n",
       " 'past': 1,\n",
       " 'thing': 1,\n",
       " 'might': 1,\n",
       " 'find': 1,\n",
       " 'another': 1,\n",
       " 'stumbling': 1,\n",
       " 'block': 1,\n",
       " \"hell's\": 3,\n",
       " 'directors': 1,\n",
       " 'albert': 1,\n",
       " 'allen': 1,\n",
       " 'hughes': 2,\n",
       " 'getting': 1,\n",
       " 'brothers': 1,\n",
       " 'direct': 2,\n",
       " 'seems': 2,\n",
       " 'almost': 1,\n",
       " 'as': 2,\n",
       " 'ludicrous': 1,\n",
       " 'casting': 1,\n",
       " 'carrot': 1,\n",
       " 'top': 1,\n",
       " 'well': 1,\n",
       " 'anything': 1,\n",
       " 'riddle': 1,\n",
       " 'me': 3,\n",
       " ':': 3,\n",
       " 'better': 1,\n",
       " \"that's\": 1,\n",
       " 'set': 1,\n",
       " 'ghetto': 2,\n",
       " 'features': 1,\n",
       " 'violent': 1,\n",
       " 'street': 1,\n",
       " 'crime': 1,\n",
       " 'than': 3,\n",
       " 'mad': 1,\n",
       " 'geniuses': 1,\n",
       " 'behind': 1,\n",
       " 'menace': 1,\n",
       " 'ii': 1,\n",
       " 'society': 1,\n",
       " '?': 3,\n",
       " 'question': 1,\n",
       " 'course': 1,\n",
       " 'whitechapel': 2,\n",
       " '1888': 1,\n",
       " \"london's\": 1,\n",
       " 'east': 1,\n",
       " 'end': 2,\n",
       " \"it's\": 4,\n",
       " 'filthy': 1,\n",
       " 'sooty': 1,\n",
       " 'place': 2,\n",
       " 'where': 1,\n",
       " 'whores': 1,\n",
       " 'unfortunates': 1,\n",
       " 'are': 1,\n",
       " 'nervous': 1,\n",
       " 'mysterious': 1,\n",
       " 'psychopath': 1,\n",
       " 'has': 2,\n",
       " 'carving': 1,\n",
       " 'through': 1,\n",
       " 'their': 1,\n",
       " 'profession': 1,\n",
       " 'surgical': 1,\n",
       " 'precision': 1,\n",
       " 'when': 2,\n",
       " 'first': 2,\n",
       " 'stiff': 1,\n",
       " 'turns': 2,\n",
       " 'up': 1,\n",
       " 'copper': 1,\n",
       " 'peter': 2,\n",
       " 'godley': 1,\n",
       " 'robbie': 1,\n",
       " 'coltrane': 1,\n",
       " 'not': 2,\n",
       " 'enough': 2,\n",
       " 'calls': 1,\n",
       " 'inspector': 1,\n",
       " 'frederick': 1,\n",
       " 'abberline': 2,\n",
       " 'johnny': 1,\n",
       " 'depp': 2,\n",
       " 'blow': 1,\n",
       " 'crack': 1,\n",
       " 'case': 1,\n",
       " 'widower': 1,\n",
       " 'prophetic': 1,\n",
       " 'dreams': 1,\n",
       " 'he': 3,\n",
       " 'unsuccessfully': 1,\n",
       " 'tries': 1,\n",
       " 'quell': 1,\n",
       " 'copious': 1,\n",
       " 'amounts': 1,\n",
       " 'absinthe': 1,\n",
       " 'opium': 1,\n",
       " 'upon': 1,\n",
       " 'arriving': 1,\n",
       " 'befriends': 1,\n",
       " 'an': 3,\n",
       " 'unfortunate': 1,\n",
       " 'named': 1,\n",
       " 'mary': 1,\n",
       " 'kelly': 1,\n",
       " 'heather': 1,\n",
       " 'graham': 2,\n",
       " \"isn't\": 1,\n",
       " 'so': 3,\n",
       " 'proceeds': 1,\n",
       " 'investigate': 1,\n",
       " 'horribly': 1,\n",
       " 'gruesome': 1,\n",
       " 'crimes': 1,\n",
       " 'even': 3,\n",
       " 'police': 1,\n",
       " 'surgeon': 1,\n",
       " \"can't\": 1,\n",
       " 'stomach': 1,\n",
       " 'i': 4,\n",
       " 'think': 1,\n",
       " 'anyone': 1,\n",
       " 'needs': 1,\n",
       " 'briefed': 1,\n",
       " 'on': 1,\n",
       " \"won't\": 1,\n",
       " 'go': 1,\n",
       " 'into': 2,\n",
       " 'particulars': 1,\n",
       " 'here': 2,\n",
       " 'unique': 1,\n",
       " 'interesting': 1,\n",
       " 'theory': 1,\n",
       " 'both': 2,\n",
       " 'identity': 2,\n",
       " 'killer': 1,\n",
       " 'reasons': 1,\n",
       " 'chooses': 1,\n",
       " 'slay': 1,\n",
       " 'they': 1,\n",
       " 'bother': 1,\n",
       " 'cloaking': 1,\n",
       " 'screenwriters': 1,\n",
       " 'terry': 1,\n",
       " 'hayes': 1,\n",
       " 'vertical': 1,\n",
       " 'limit': 1,\n",
       " 'rafael': 1,\n",
       " 'yglesias': 1,\n",
       " 'les': 1,\n",
       " 'mis': 1,\n",
       " 'rables': 1,\n",
       " 'do': 1,\n",
       " 'good': 2,\n",
       " 'job': 1,\n",
       " 'keeping': 1,\n",
       " 'him': 1,\n",
       " 'hidden': 1,\n",
       " 'viewers': 1,\n",
       " 'until': 1,\n",
       " 'very': 1,\n",
       " 'funny': 1,\n",
       " 'watch': 1,\n",
       " 'locals': 1,\n",
       " 'blindly': 1,\n",
       " 'point': 1,\n",
       " 'finger': 1,\n",
       " 'blame': 1,\n",
       " 'at': 3,\n",
       " 'jews': 1,\n",
       " 'indians': 1,\n",
       " 'after': 1,\n",
       " 'all': 3,\n",
       " 'englishman': 1,\n",
       " 'could': 1,\n",
       " 'capable': 1,\n",
       " 'committing': 1,\n",
       " 'such': 1,\n",
       " 'ghastly': 1,\n",
       " 'acts': 1,\n",
       " 'ending': 1,\n",
       " 'whistling': 1,\n",
       " 'stonecutters': 1,\n",
       " 'song': 1,\n",
       " 'simpsons': 1,\n",
       " 'days': 1,\n",
       " 'holds': 1,\n",
       " 'back': 1,\n",
       " 'electric': 1,\n",
       " 'car/who': 1,\n",
       " 'made': 1,\n",
       " 'steve': 1,\n",
       " 'guttenberg': 1,\n",
       " 'star': 1,\n",
       " 'worry': 1,\n",
       " '-': 2,\n",
       " \"it'll\": 1,\n",
       " 'make': 2,\n",
       " 'sense': 1,\n",
       " 'see': 2,\n",
       " 'now': 1,\n",
       " 'onto': 1,\n",
       " 'appearance': 1,\n",
       " 'certainly': 1,\n",
       " 'dark': 1,\n",
       " 'bleak': 1,\n",
       " 'surprising': 1,\n",
       " 'how': 1,\n",
       " 'much': 1,\n",
       " 'looks': 1,\n",
       " 'tim': 1,\n",
       " 'burton': 1,\n",
       " 'planet': 1,\n",
       " 'apes': 1,\n",
       " 'did': 1,\n",
       " 'times': 1,\n",
       " 'sleepy': 1,\n",
       " 'hollow': 1,\n",
       " '2': 2,\n",
       " 'print': 1,\n",
       " 'saw': 1,\n",
       " \"wasn't\": 2,\n",
       " 'completely': 1,\n",
       " 'finished': 1,\n",
       " 'color': 1,\n",
       " 'music': 1,\n",
       " 'finalized': 1,\n",
       " 'no': 1,\n",
       " 'comments': 1,\n",
       " 'marilyn': 1,\n",
       " 'manson': 1,\n",
       " 'cinematographer': 1,\n",
       " 'deming': 1,\n",
       " 'word': 1,\n",
       " 'ably': 1,\n",
       " 'captures': 1,\n",
       " 'dreariness': 1,\n",
       " 'victorian-era': 1,\n",
       " 'london': 1,\n",
       " 'helped': 1,\n",
       " 'flashy': 1,\n",
       " 'killing': 1,\n",
       " 'scenes': 1,\n",
       " 'remind': 1,\n",
       " 'crazy': 1,\n",
       " 'flashbacks': 1,\n",
       " 'twin': 1,\n",
       " 'peaks': 1,\n",
       " 'though': 1,\n",
       " 'violence': 1,\n",
       " 'pales': 1,\n",
       " 'comparison': 1,\n",
       " 'black-and-white': 1,\n",
       " 'oscar': 1,\n",
       " 'winner': 1,\n",
       " 'martin': 1,\n",
       " \"childs'\": 1,\n",
       " 'shakespeare': 1,\n",
       " 'love': 1,\n",
       " 'production': 1,\n",
       " 'design': 1,\n",
       " 'original': 1,\n",
       " 'prague': 1,\n",
       " 'surroundings': 1,\n",
       " 'one': 1,\n",
       " 'creepy': 1,\n",
       " 'acting': 1,\n",
       " 'solid': 1,\n",
       " 'dreamy': 1,\n",
       " 'turning': 1,\n",
       " 'typically': 1,\n",
       " 'strong': 2,\n",
       " 'performance': 1,\n",
       " 'deftly': 1,\n",
       " 'handling': 1,\n",
       " 'british': 1,\n",
       " 'accent': 2,\n",
       " 'ians': 1,\n",
       " 'holm': 1,\n",
       " 'joe': 1,\n",
       " \"gould's\": 1,\n",
       " 'secret': 1,\n",
       " 'richardson': 1,\n",
       " '102': 1,\n",
       " 'dalmatians': 1,\n",
       " 'log': 1,\n",
       " 'great': 1,\n",
       " 'supporting': 1,\n",
       " 'roles': 1,\n",
       " 'big': 1,\n",
       " 'surprise': 1,\n",
       " 'cringed': 1,\n",
       " 'time': 1,\n",
       " 'she': 1,\n",
       " 'opened': 1,\n",
       " 'her': 2,\n",
       " 'mouth': 1,\n",
       " 'imagining': 1,\n",
       " 'attempt': 1,\n",
       " 'irish': 1,\n",
       " 'actually': 1,\n",
       " 'half': 1,\n",
       " 'bad': 1,\n",
       " 'however': 1,\n",
       " '00': 1,\n",
       " 'r': 1,\n",
       " 'violence/gore': 1,\n",
       " 'sexuality': 1,\n",
       " 'language': 1,\n",
       " 'drug': 1,\n",
       " 'content': 1}"
      ]
     },
     "execution_count": 15,
     "metadata": {},
     "output_type": "execute_result"
    }
   ],
   "source": [
    "count"
   ]
  },
  {
   "cell_type": "code",
   "execution_count": 29,
   "metadata": {},
   "outputs": [
    {
     "data": {
      "text/plain": [
       "['This is the first sentence',\n",
       " 'This is another sentence',\n",
       " 'This is the third sentence',\n",
       " 'This is the last sentence']"
      ]
     },
     "execution_count": 29,
     "metadata": {},
     "output_type": "execute_result"
    }
   ],
   "source": [
    "sent = \"This is the first sentence. This is another sentence. This is the third sentence. This is the last sentence\"\n",
    "sent.split(\". \")"
   ]
  },
  {
   "cell_type": "markdown",
   "metadata": {},
   "source": [
    "## Can we do better? Regular Expressions to the Rescue"
   ]
  },
  {
   "cell_type": "code",
   "execution_count": 17,
   "metadata": {},
   "outputs": [],
   "source": [
    "import re"
   ]
  },
  {
   "cell_type": "markdown",
   "metadata": {},
   "source": [
    "### This module provides regular expression matching operations.\n",
    "\n",
    "Below is a list of expressions and what they match to. \n",
    "\n",
    "| Expression | Matches With                   |\n",
    "| ---------- | -----------------------------  |\n",
    "| `abc...`   | lowercase letter               |\n",
    "| `123…`     | Digits                         |\n",
    "| `\\d`       | Any Digit                      |\n",
    "| `'\\D'`     | Any Non-digit character        |\n",
    "| `.`        | Any Character                  |\n",
    "| `\\.`       | Period                         |\n",
    "| `[abc]`    | Only a, b, or c                |\n",
    "| `\\.`       | Period                         |\n",
    "| `[abc]`    | Only a, b, or c                |\n",
    "| `[^abc]`   | Not a, b, nor c                |\n",
    "| `[a-z]`    | Characters a to z              |\n",
    "| `[0-9]`    | Numbers 0 to 9                 |\n",
    "| `\\w`       | Any Alphanumeric character     |\n",
    "| `\\W`       | Any Non-alphanumeric character |\n",
    "| `{m}`      | m Repetitions                  |\n",
    "| `{m,n}`    | m to n Repetitions             |\n",
    "| `\\*`       | Zero or more repetitions       |\n",
    "| `\\+`       | One or more repetitions        |\n",
    "| `?`        | Optional character             |\n",
    "| `\\s`       | Any Whitespace                 |\n",
    "| `\\S`       | Any Non-whitespace character   |\n",
    "| `^…$`      | Starts and ends                |\n",
    "| `(…)`      | Capture Group                  |\n"
   ]
  },
  {
   "cell_type": "code",
   "execution_count": 37,
   "metadata": {},
   "outputs": [
    {
     "data": {
      "text/plain": [
       "\"for starters , it was created by alan moore ( and eddie campbell ) , who brought the medium to a whole new level in the mid '80s with a 12-part series called the watchmen . \""
      ]
     },
     "execution_count": 37,
     "metadata": {},
     "output_type": "execute_result"
    }
   ],
   "source": [
    "sentence"
   ]
  },
  {
   "cell_type": "markdown",
   "metadata": {},
   "source": [
    "## FINDALL"
   ]
  },
  {
   "cell_type": "code",
   "execution_count": 18,
   "metadata": {
    "scrolled": true
   },
   "outputs": [
    {
     "data": {
      "text/plain": [
       "['for',\n",
       " 'starters',\n",
       " 'it',\n",
       " 'was',\n",
       " 'created',\n",
       " 'by',\n",
       " 'alan',\n",
       " 'moore',\n",
       " 'and',\n",
       " 'eddie',\n",
       " 'campbell',\n",
       " 'who',\n",
       " 'brought',\n",
       " 'the',\n",
       " 'medium',\n",
       " 'to',\n",
       " 'a',\n",
       " 'whole',\n",
       " 'new',\n",
       " 'level',\n",
       " 'in',\n",
       " 'the',\n",
       " 'mid',\n",
       " '80s',\n",
       " 'with',\n",
       " 'a',\n",
       " '12',\n",
       " 'part',\n",
       " 'series',\n",
       " 'called',\n",
       " 'the',\n",
       " 'watchmen']"
      ]
     },
     "execution_count": 18,
     "metadata": {},
     "output_type": "execute_result"
    }
   ],
   "source": [
    "re.findall('\\w+', sentence)"
   ]
  },
  {
   "cell_type": "code",
   "execution_count": 61,
   "metadata": {},
   "outputs": [
    {
     "data": {
      "text/plain": [
       "['the', 'the', 'the']"
      ]
     },
     "execution_count": 61,
     "metadata": {},
     "output_type": "execute_result"
    }
   ],
   "source": [
    "#findall lists every match to the pattern, but doesn't give the position. I is short for IGNORECASE.\n",
    "re.findall(r'the',sentence, re.I)"
   ]
  },
  {
   "cell_type": "code",
   "execution_count": 63,
   "metadata": {},
   "outputs": [
    {
     "data": {
      "text/plain": [
       "['for', 'moore', 'brought', 'whole']"
      ]
     },
     "execution_count": 63,
     "metadata": {},
     "output_type": "execute_result"
    }
   ],
   "source": [
    "re.findall(r'\\w+o\\w+', sentence)"
   ]
  },
  {
   "cell_type": "code",
   "execution_count": 64,
   "metadata": {},
   "outputs": [
    {
     "data": {
      "text/plain": [
       "['for', 'moore', 'who', 'brought', 'to', 'whole']"
      ]
     },
     "execution_count": 64,
     "metadata": {},
     "output_type": "execute_result"
    }
   ],
   "source": [
    "re.findall(r'\\w*o\\w*', sentence)"
   ]
  },
  {
   "cell_type": "code",
   "execution_count": 62,
   "metadata": {},
   "outputs": [
    {
     "data": {
      "text/plain": [
       "[<re.Match object; span=(81, 84), match='the'>,\n",
       " <re.Match object; span=(116, 119), match='the'>,\n",
       " <re.Match object; span=(158, 161), match='the'>]"
      ]
     },
     "execution_count": 62,
     "metadata": {},
     "output_type": "execute_result"
    }
   ],
   "source": [
    "#finditer returns an iterator over all matches of the pattern in the string\n",
    "list(re.finditer(r'the',sentence, re.I))"
   ]
  },
  {
   "cell_type": "code",
   "execution_count": 21,
   "metadata": {},
   "outputs": [
    {
     "data": {
      "text/plain": [
       "['567846']"
      ]
     },
     "execution_count": 21,
     "metadata": {},
     "output_type": "execute_result"
    }
   ],
   "source": [
    "#There are many numbers in your text but you want the number that ends with 6\n",
    "r_otp = \"[0-9]{6}?\"\n",
    "text = \"Your otp to login to xyz app is 567846. Go to the following link, https://xyz.co/34567\"\n",
    "otp = re.findall(r_otp, text)\n",
    "otp"
   ]
  },
  {
   "cell_type": "code",
   "execution_count": 20,
   "metadata": {},
   "outputs": [
    {
     "data": {
      "text/plain": [
       "['+1-972-1234567', '+91-987654321']"
      ]
     },
     "execution_count": 20,
     "metadata": {},
     "output_type": "execute_result"
    }
   ],
   "source": [
    "#If a character is a keyword for regular expression but is part of your expression then we have to use \\character to make it count as an expression.\n",
    "# See below that + is a keyword for regular expression but also a part of the sentence, to make + a part of the expression we have to use \\+\n",
    "sent = \"My phone number is +1-972-1234567. Indian number is +91-987654321\"\n",
    "phone = re.findall(\"[\\+\\-0-9]+\", sent)\n",
    "phone"
   ]
  },
  {
   "cell_type": "markdown",
   "metadata": {},
   "source": [
    "### sub"
   ]
  },
  {
   "cell_type": "code",
   "execution_count": 65,
   "metadata": {},
   "outputs": [
    {
     "data": {
      "text/plain": [
       "\"for e-word , it was e-word by alan e-word ( and e-word e-word ) , who brought e-word e-word to a e-word e-word e-word in e-word mid '80s with a 12-part e-word e-word e-word e-word . \""
      ]
     },
     "execution_count": 65,
     "metadata": {},
     "output_type": "execute_result"
    }
   ],
   "source": [
    "t = sentence\n",
    "re.sub(r'\\w*e\\w*', 'e-word', t)"
   ]
  },
  {
   "cell_type": "code",
   "execution_count": 67,
   "metadata": {},
   "outputs": [
    {
     "data": {
      "text/plain": [
       "\"for =starters= , it was =created= by alan =moore= ( and =eddie= =campbell= ) , who brought =the= =medium= to a =whole= =new= =level= in =the= mid '80s with a 12-part =series= =called= =the= =watchmen= . \""
      ]
     },
     "execution_count": 67,
     "metadata": {},
     "output_type": "execute_result"
    }
   ],
   "source": [
    "#We can capture things with parentheses, then refer to the captured items by \\1, \\2, etc. in the substitutio\n",
    "re.sub(r'(\\w*)e(\\w*)', r'=\\1e\\2=', t)"
   ]
  },
  {
   "cell_type": "code",
   "execution_count": 71,
   "metadata": {},
   "outputs": [
    {
     "data": {
      "text/plain": [
       "\"=for= starters , it was created by alan =moore= ( and eddie campbell ) , =who= =brought= the medium =to= a =whole= new level in the mid '80s with a 12-part series called the watchmen . \""
      ]
     },
     "execution_count": 71,
     "metadata": {},
     "output_type": "execute_result"
    }
   ],
   "source": [
    "#We can also search between two words and give them name\n",
    "re.sub(r'(?P<who>\\w*)o(?P<whole>\\w*)', r'=\\g<who>o\\g<whole>=', t)"
   ]
  },
  {
   "cell_type": "markdown",
   "metadata": {},
   "source": [
    "## SPLIT"
   ]
  },
  {
   "cell_type": "code",
   "execution_count": 42,
   "metadata": {},
   "outputs": [
    {
     "data": {
      "text/plain": [
       "['f',\n",
       " 'r starters , it was created by alan m',\n",
       " '',\n",
       " 're ( and eddie campbell ) , wh',\n",
       " ' br',\n",
       " 'ught the medium t',\n",
       " ' a wh',\n",
       " \"le new level in the mid '80s with a 12-part series called the watchmen . \"]"
      ]
     },
     "execution_count": 42,
     "metadata": {},
     "output_type": "execute_result"
    }
   ],
   "source": [
    "re.split(r'o', sentence)"
   ]
  },
  {
   "cell_type": "code",
   "execution_count": 35,
   "metadata": {},
   "outputs": [
    {
     "data": {
      "text/plain": [
       "['f',\n",
       " 'r starters , it was created by alan m',\n",
       " \"ore ( and eddie campbell ) , who brought the medium to a whole new level in the mid '80s with a 12-part series called the watchmen . \"]"
      ]
     },
     "execution_count": 35,
     "metadata": {},
     "output_type": "execute_result"
    }
   ],
   "source": [
    "#And this splits on the letter o\n",
    "re.split(r'o', sentence, re.IGNORECASE)"
   ]
  },
  {
   "cell_type": "code",
   "execution_count": 39,
   "metadata": {},
   "outputs": [
    {
     "data": {
      "text/plain": [
       "<RegexFlag.IGNORECASE: 2>"
      ]
     },
     "execution_count": 39,
     "metadata": {},
     "output_type": "execute_result"
    }
   ],
   "source": [
    "re.IGNORECASE"
   ]
  },
  {
   "cell_type": "code",
   "execution_count": 36,
   "metadata": {},
   "outputs": [
    {
     "data": {
      "text/plain": [
       "[\"for starters , it was created by alan moore ( and eddie campbell ) , who brought the medium to a whole new level in the mid '80s with a 12-part series called the watchmen \",\n",
       " '']"
      ]
     },
     "execution_count": 36,
     "metadata": {},
     "output_type": "execute_result"
    }
   ],
   "source": [
    "re.split('[?.!] ', sentence)"
   ]
  },
  {
   "cell_type": "code",
   "execution_count": 40,
   "metadata": {},
   "outputs": [
    {
     "data": {
      "text/plain": [
       "['for starters , it was created by alan moore ( and eddie campbell ) , who brought ',\n",
       " ' medium to a whole new level in ',\n",
       " \" mid '80s with a 12-part series called \",\n",
       " ' watchmen . ']"
      ]
     },
     "execution_count": 40,
     "metadata": {},
     "output_type": "execute_result"
    }
   ],
   "source": [
    "#For split, it is better to use (?i) for case-insensitivity.\n",
    "re.split(r'(?i)the',sentence)"
   ]
  },
  {
   "cell_type": "markdown",
   "metadata": {},
   "source": [
    "### Capturing in the pattern for split"
   ]
  },
  {
   "cell_type": "code",
   "execution_count": 44,
   "metadata": {},
   "outputs": [
    {
     "data": {
      "text/plain": [
       "['',\n",
       " ' starters , it was created by alan ',\n",
       " ' ( and eddie campbell ) , who ',\n",
       " ' the medium to a ',\n",
       " \" new level in the mid '80s with a 12-part series called the watchmen . \"]"
      ]
     },
     "execution_count": 44,
     "metadata": {},
     "output_type": "execute_result"
    }
   ],
   "source": [
    "#This one splits on words with an internal o\n",
    "re.split(r'\\w+o\\w+', sentence)"
   ]
  },
  {
   "cell_type": "code",
   "execution_count": 45,
   "metadata": {},
   "outputs": [
    {
     "data": {
      "text/plain": [
       "['',\n",
       " 'for',\n",
       " ' starters , it was created by alan ',\n",
       " 'moore',\n",
       " ' ( and eddie campbell ) , who ',\n",
       " 'brought',\n",
       " ' the medium to a ',\n",
       " 'whole',\n",
       " \" new level in the mid '80s with a 12-part series called the watchmen . \"]"
      ]
     },
     "execution_count": 45,
     "metadata": {},
     "output_type": "execute_result"
    }
   ],
   "source": [
    "#This one splits on words with an internal o but saves the word. We do so by adding a parenthesis\n",
    "re.split(r'(\\w+o\\w+)', sentence)\n",
    "\n",
    "#Saw the difference"
   ]
  },
  {
   "cell_type": "code",
   "execution_count": 48,
   "metadata": {},
   "outputs": [
    {
     "data": {
      "text/plain": [
       "['',\n",
       " ' starters , it was created by alan ',\n",
       " ' ( and eddie campbell ) , ',\n",
       " ' ',\n",
       " ' the medium ',\n",
       " ' a ',\n",
       " \" new level in the mid '80s with a 12-part series called the watchmen . \"]"
      ]
     },
     "execution_count": 48,
     "metadata": {},
     "output_type": "execute_result"
    }
   ],
   "source": [
    "#This one splits on any combination words with an internal o\n",
    "re.split(r'\\w*o\\w*', sentence)"
   ]
  },
  {
   "cell_type": "code",
   "execution_count": 49,
   "metadata": {},
   "outputs": [
    {
     "data": {
      "text/plain": [
       "['',\n",
       " 'for',\n",
       " ' starters , it was created by alan ',\n",
       " 'moore',\n",
       " ' ( and eddie campbell ) , ',\n",
       " 'who',\n",
       " ' ',\n",
       " 'brought',\n",
       " ' the medium ',\n",
       " 'to',\n",
       " ' a ',\n",
       " 'whole',\n",
       " \" new level in the mid '80s with a 12-part series called the watchmen . \"]"
      ]
     },
     "execution_count": 49,
     "metadata": {},
     "output_type": "execute_result"
    }
   ],
   "source": [
    "re.split(r'(\\w*o\\w*)', sentence)"
   ]
  },
  {
   "cell_type": "code",
   "execution_count": 56,
   "metadata": {},
   "outputs": [
    {
     "data": {
      "text/plain": [
       "['',\n",
       " 'for',\n",
       " ' ',\n",
       " 'starters',\n",
       " ' , ',\n",
       " 'it',\n",
       " ' ',\n",
       " 'was',\n",
       " ' ',\n",
       " 'created',\n",
       " ' ',\n",
       " 'by',\n",
       " ' ',\n",
       " 'alan',\n",
       " ' ',\n",
       " 'moore',\n",
       " ' ( ',\n",
       " 'and',\n",
       " ' ',\n",
       " 'eddie',\n",
       " ' ',\n",
       " 'campbell',\n",
       " ' ) , ',\n",
       " 'who',\n",
       " ' ',\n",
       " 'brought',\n",
       " ' ',\n",
       " 'the',\n",
       " ' ',\n",
       " 'medium',\n",
       " ' ',\n",
       " 'to',\n",
       " ' ',\n",
       " 'a',\n",
       " ' ',\n",
       " 'whole',\n",
       " ' ',\n",
       " 'new',\n",
       " ' ',\n",
       " 'level',\n",
       " ' ',\n",
       " 'in',\n",
       " ' ',\n",
       " 'the',\n",
       " ' ',\n",
       " 'mid',\n",
       " \" '\",\n",
       " '80s',\n",
       " ' ',\n",
       " 'with',\n",
       " ' ',\n",
       " 'a',\n",
       " ' ',\n",
       " '12',\n",
       " '-',\n",
       " 'part',\n",
       " ' ',\n",
       " 'series',\n",
       " ' ',\n",
       " 'called',\n",
       " ' ',\n",
       " 'the',\n",
       " ' ',\n",
       " 'watchmen',\n",
       " ' . ']"
      ]
     },
     "execution_count": 56,
     "metadata": {},
     "output_type": "execute_result"
    }
   ],
   "source": [
    "#Here we split on word boundaries. \\b is a zero-width assertion. \n",
    "#It requires that certain characters be present, but it doesn't \"consume\" them.\n",
    "re.split(r'\\b',sentence)"
   ]
  },
  {
   "cell_type": "code",
   "execution_count": 50,
   "metadata": {},
   "outputs": [
    {
     "data": {
      "text/plain": [
       "['for starters , it was created by ',\n",
       " \" moore ( and eddie campbell ) , who brought the medium to a whole new level in the mid '80s \",\n",
       " ' a 12-',\n",
       " ' series called the watchmen . ']"
      ]
     },
     "execution_count": 50,
     "metadata": {},
     "output_type": "execute_result"
    }
   ],
   "source": [
    "#Perform split on a 4 letter word.\n",
    "re.split(r'\\b\\w{4}\\b', sentence)"
   ]
  },
  {
   "cell_type": "code",
   "execution_count": 53,
   "metadata": {},
   "outputs": [
    {
     "data": {
      "text/plain": [
       "['for starters , it was created by ',\n",
       " 'alan',\n",
       " \" moore ( and eddie campbell ) , who brought the medium to a whole new level in the mid '80s \",\n",
       " 'with',\n",
       " ' a 12-',\n",
       " 'part',\n",
       " ' series called the watchmen . ']"
      ]
     },
     "execution_count": 53,
     "metadata": {},
     "output_type": "execute_result"
    }
   ],
   "source": [
    "#Perform split on a 4 letter word and we capture the word\n",
    "re.split(r'\\b(\\w{4})\\b', sentence)"
   ]
  },
  {
   "cell_type": "markdown",
   "metadata": {},
   "source": [
    "### Groups\n",
    "\n",
    "Well, groups serve many purposes. They can help you to extract exact information from a bigger match (which can also be named), they let you rematch a previous matched group, and can be used for substitutions\n",
    "\n",
    "Groups of text show up everywhere.\n",
    "<ul>\n",
    "    <li>Names</li>\n",
    "    <li>Phone Numbers</li>\n",
    "    <li>Noun Phrases - \"The\" `< adjective>+` `< noun >` - For example - The funny man</li>\n",
    "</ul>"
   ]
  },
  {
   "cell_type": "code",
   "execution_count": 22,
   "metadata": {},
   "outputs": [
    {
     "name": "stdout",
     "output_type": "stream",
     "text": [
      "{'country_code': '+1', 'area_code': '972', 'number': '1234567'}\n"
     ]
    }
   ],
   "source": [
    "p = phone[0]\n",
    "print(re.match(\"(?P<country_code>[+0-9]*)-(?P<area_code>[0-9]*)-(?P<number>[0-9]*)\", p).groupdict())"
   ]
  },
  {
   "cell_type": "code",
   "execution_count": 105,
   "metadata": {},
   "outputs": [
    {
     "name": "stdout",
     "output_type": "stream",
     "text": [
      "True\n",
      "True\n"
     ]
    }
   ],
   "source": [
    "# Regex for non capturing groups\n",
    "text1 = \"http://stackoverflow.com/\"\n",
    "text2 = \"https://stackoverflow.com/questions/tagged/regex\"\n",
    "    \n",
    "if re.match(r'(?:https?|ftp)://([^/\\r\\n]+)(/[^\\r\\n]*)?',text1):\n",
    "    print(True)\n",
    "else :\n",
    "    print(False)\n",
    "\n",
    "if re.match(r'(?:https?|ftp)://([^/\\r\\n]+)(/[^\\r\\n]*)?',text2):\n",
    "        print(True)\n",
    "else :\n",
    "    print(False)"
   ]
  },
  {
   "cell_type": "markdown",
   "metadata": {},
   "source": [
    "Match \"http://stackoverflow.com/\"\n",
    "    \n",
    "    Group 1: \"http\"\n",
    "    \n",
    "    Group 2: \"stackoverflow.com\"\n",
    "    \n",
    "    Group 3: \"/\"\n",
    "\n",
    "Match \"https://stackoverflow.com/questions/tagged/regex\"\n",
    "    \n",
    "    Group 1: \"https\"\n",
    "    \n",
    "    Group 2: \"stackoverflow.com\"\n",
    "    \n",
    "    Group 3: \"/questions/tagged/regex\""
   ]
  },
  {
   "cell_type": "markdown",
   "metadata": {},
   "source": [
    "### Lookaheads"
   ]
  },
  {
   "cell_type": "markdown",
   "metadata": {},
   "source": [
    "<li>(?!) - negative lookahead\n",
    "<li>(?=) - positive lookahead\n",
    "<li>?(?<=) - positive lookbehind\n",
    "<li>(?<!) - negative lookbehind\n",
    "\n",
    "<li>(?>) - atomic group"
   ]
  },
  {
   "cell_type": "markdown",
   "metadata": {},
   "source": [
    "<li> Positive lookahead: (?=...). Ex: a(?=b) matches a if followed by b\n",
    "<li> Negative lookahead: (?!...). Ex: a(?!b) matches a if not followed by b\n",
    "<li> Positive lookbehind: (?<=...). Ex: (?<=a)b matches b if preceded by a\n",
    "<li> Negative lookbehind: (?<!...). Ex: (?<=a)b matches b if not preceded by a"
   ]
  },
  {
   "cell_type": "code",
   "execution_count": 75,
   "metadata": {},
   "outputs": [
    {
     "data": {
      "text/plain": [
       "['for starters , it was created by ',\n",
       " \" moore ( and eddie campbell ) , who brought the medium to a whole new level in the mid '80s \",\n",
       " ' a 12-',\n",
       " ' series called the watchmen . ']"
      ]
     },
     "execution_count": 75,
     "metadata": {},
     "output_type": "execute_result"
    }
   ],
   "source": [
    "#split on any 4-letter word.\n",
    "re.split(r'(?x) \\b \\w{4} \\b', sentence)"
   ]
  },
  {
   "cell_type": "code",
   "execution_count": 76,
   "metadata": {},
   "outputs": [
    {
     "data": {
      "text/plain": [
       "['for starters , it was created by ',\n",
       " \" moore ( and eddie campbell ) , who brought the medium to a whole new level in the mid '80s with a 12-\",\n",
       " ' series called the watchmen . ']"
      ]
     },
     "execution_count": 76,
     "metadata": {},
     "output_type": "execute_result"
    }
   ],
   "source": [
    "#if we want to split on any 4-letter word but with. We can use a look-ahead assertion\n",
    "re.split(r'(?x) \\b (?!with) \\w{4} \\b', sentence)"
   ]
  },
  {
   "cell_type": "code",
   "execution_count": 97,
   "metadata": {},
   "outputs": [
    {
     "data": {
      "text/plain": [
       "['for starters , it was created by ',\n",
       " \" moore ( and eddie campbell ) , who brought the medium to a whole new level in the mid '80s with a 12-\",\n",
       " ' series called the watchmen . ']"
      ]
     },
     "execution_count": 97,
     "metadata": {},
     "output_type": "execute_result"
    }
   ],
   "source": [
    "#We can use look behind assertion too for the above\n",
    "re.split(r'(?x)\\b\\w{4}(?<!with)\\b', sentence)"
   ]
  },
  {
   "cell_type": "markdown",
   "metadata": {},
   "source": [
    "**1(?=ABC) means - look for 1, and match (but don't capture) ABC after it.**\n",
    "\n",
    "**(?<=ABC)1 means - match (but don't capture) ABC before the current location, and continue to match 1**\n",
    "\n",
    "**normally, you'll place the lookahead after the expression and the lookbehind before it**"
   ]
  },
  {
   "cell_type": "markdown",
   "metadata": {},
   "source": [
    "##### For more information about  Negetive Lookaheads\n",
    "\n",
    "A negative lookahead says, at this position, the following regex can not match\n",
    "\n",
    "a(?!b(?!c))\n",
    "<ul>\n",
    "<li> a      Match: (?!b) succeeds\n",
    "<li> ac     Match: (?!b) succeeds\n",
    "<li> ab     No match: (?!b(?!c)) fails\n",
    "<li> abe    No match: (?!b(?!c)) fails\n",
    "<li> abc    Match: (?!b(?!c)) succeeds\n",
    "</ul>\n",
    "The last example is a double negation: it allows a b followed by c. The nested negative lookahead becomes a positive lookahead: the c should be present.\n",
    "\n",
    "In each example, only the a is matched. The lookahead is only a condition, and does not add to the matched text."
   ]
  },
  {
   "cell_type": "markdown",
   "metadata": {},
   "source": [
    "# Examples\n",
    "\n",
    "#### Example 1\n",
    "\n",
    "Building a regular expression to test the validity of a password\n",
    "\n",
    "A valid password is one which\n",
    "<ul>\n",
    "    <li> must contains one digit</li>\n",
    "    <li>must contains one special symbols [#@!?]</li>\n",
    "    <li>must contains one upper characters</li>\n",
    "    <li>must contains one lowercase characters</li>\n",
    "    <li>length at least 6 characters and maximum of 20</li>\t\n",
    "</ul>"
   ]
  },
  {
   "cell_type": "markdown",
   "metadata": {},
   "source": [
    "### Explanation of the pattern below (?=.*[a-z])(?=.*[A-Z])(?=.*\\d)(?=.*[@$!%*#?&])[A-Za-z\\d@$!#%*?&]{6,20}\n",
    "\n",
    "?= : refers to the positive look ahead. It performs the match, but does not capture the match, returning only the result: match or no match. t is also called assertion as it does not consume any characters in matching.\n",
    "\n",
    ".* : This is a greedy operator. This basically means any combination of characters.\n",
    "\n",
    "<ul>\n",
    "    <li> (?=.*[a-z]) : The matching string  must contain one lowercase characters\n",
    "        to use only .*[a-z] would take our control to the end of the string so we need something to back track it thats why we\n",
    "        use ?=\n",
    "    <li> (?=.*[A-Z]) : The matching string  must contain one uppercase characters  \n",
    "    <li> (?=.*\\d) : The matching string must contain a number\n",
    "    <li> (?=.*[@$!%*#?&]) : The matching string must contain a special characters\n",
    "    <li> [A-Za-z\\d@$!#%*?&]{6,20} : The character class could match all letters or all digits, so you use the lookaheads to ensure that there's at least one of each. In this case, you have to do the lookaheads first, because the later parts of the regex have to be able to examine the whole string. Here 6 and 20 indicates the length of the string \n",
    "        \n",
    "**This is an example of positive lookaheads. There are negetive lookaheads to match if a pattern is missing too denoted by (?!pattern)**\n",
    "\n",
    "        "
   ]
  },
  {
   "cell_type": "code",
   "execution_count": 98,
   "metadata": {},
   "outputs": [
    {
     "name": "stdout",
     "output_type": "stream",
     "text": [
      "False\n",
      "True\n",
      "False\n"
     ]
    }
   ],
   "source": [
    "def is_valid(p):\n",
    "    regex = re.compile(\"(?=.*[a-z])(?=.*[A-Z])(?=.*\\d)(?=.*[@$!%*#?&])[A-Za-z\\d@$!#%*?&]{6,20}\")\n",
    "    if re.match(regex, p):\n",
    "        return True\n",
    "    return False\n",
    "\n",
    "passwords = [\"Regex123\", \"Regex@123\", \"Rr@12\"]\n",
    "for p in passwords:\n",
    "    print(is_valid(p))"
   ]
  },
  {
   "cell_type": "code",
   "execution_count": 101,
   "metadata": {},
   "outputs": [
    {
     "data": {
      "image/png": "[encoded data removed]",
      "text/plain": [
       "<IPython.core.display.Image object>"
      ]
     },
     "execution_count": 101,
     "metadata": {},
     "output_type": "execute_result"
    }
   ],
   "source": [
    "from IPython.display import Image\n",
    "Image(filename='image.png')"
   ]
  },
  {
   "cell_type": "code",
   "execution_count": 99,
   "metadata": {},
   "outputs": [
    {
     "name": "stdout",
     "output_type": "stream",
     "text": [
      "False\n"
     ]
    }
   ],
   "source": [
    "if re.match(r'(?<=\\d)(?=(.)\\1)(?!p)\\w(?<!q)',\"a3b5ddx \"):\n",
    "        print(True)\n",
    "else :\n",
    "    print(False)"
   ]
  },
  {
   "cell_type": "markdown",
   "metadata": {},
   "source": [
    "#### Example 2\n",
    " Use of Regex Non capturing groups"
   ]
  },
  {
   "cell_type": "code",
   "execution_count": 107,
   "metadata": {},
   "outputs": [
    {
     "name": "stdout",
     "output_type": "stream",
     "text": [
      "False\n",
      "True\n",
      "True\n"
     ]
    }
   ],
   "source": [
    "def is_noncapture(s):\n",
    "    if re.match(r'(?:animal)(?:=)(\\w+)(,)\\1\\2', s):\n",
    "        return True\n",
    "    return False\n",
    "\n",
    "strings = [\"animal=cat,dog,cat,tiger,dog\", \"animal=cat,cat,dog,dog,tiger\", \"animal=dog,dog,cat,cat,tiger\"]\n",
    "for s in strings:\n",
    "    print(is_noncapture(s))"
   ]
  },
  {
   "cell_type": "markdown",
   "metadata": {},
   "source": [
    "(?:animal) --> Non-Captured Group 1\n",
    "\n",
    "(?:=)--> Non-Captured Group 2\n",
    "\n",
    "(\\w+)--> Captured Group 1\n",
    "\n",
    "(,)--> Captured Group 2\n",
    "\n",
    "\\1 --> result of captured group 1 i.e In Line 1 is cat, In Line 2 is cat, In Line 3 is dog.\n",
    "\n",
    "\\2 --> result of captured group 2 i.e comma (,)\n",
    "\n",
    "So in this code by giving \\1 and \\2 we recall or repeat the result of captured group 1 and 2 respectively later in the code.\n",
    "\n",
    "As per the order of code (?:animal) should be group 1 and (?:=) should be group 2 and continues..\n",
    "\n",
    "but by giving the ?: we make the match-group non captured (which do not count off in matched group, so the grouping number starts from the first captured group and not the non captured), so that the repetition of the result of match-group (?:animal) can't be called later in code."
   ]
  }
 ],
 "metadata": {
  "kernelspec": {
   "display_name": "Python 3",
   "language": "python",
   "name": "python3"
  },
  "language_info": {
   "codemirror_mode": {
    "name": "ipython",
    "version": 3
   },
   "file_extension": ".py",
   "mimetype": "text/x-python",
   "name": "python",
   "nbconvert_exporter": "python",
   "pygments_lexer": "ipython3",
   "version": "3.7.4"
  }
 },
 "nbformat": 4,
 "nbformat_minor": 2
}
